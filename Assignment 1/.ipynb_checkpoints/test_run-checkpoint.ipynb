{
 "cells": [
  {
   "cell_type": "code",
   "execution_count": 1,
   "metadata": {},
   "outputs": [
    {
     "name": "stdout",
     "output_type": "stream",
     "text": [
      "Python Version:  3.6.5 (default, Apr  9 2018, 09:51:01) \n",
      "[GCC 7.3.0]\n",
      "PyTorch Version:  1.0.0\n",
      "Torchvision Version:  0.2.1\n"
     ]
    }
   ],
   "source": [
    "import torch\n",
    "import torchvision\n",
    "import sys\n",
    "\n",
    "print(\"Python Version: \", sys.version)\n",
    "print(\"PyTorch Version: \",torch.__version__)\n",
    "print(\"Torchvision Version: \",torchvision.__version__)"
   ]
  },
  {
   "cell_type": "code",
   "execution_count": 2,
   "metadata": {},
   "outputs": [
    {
     "name": "stdout",
     "output_type": "stream",
     "text": [
      "Number of avalaible GPUs:  1\n",
      "GPU's name:  GeForce GTX 970\n",
      "----- Hooray! You have successfully installed and configured pytorch for jupyter notebook! -----\n"
     ]
    }
   ],
   "source": [
    "isGPU = torch.cuda.is_available()\n",
    "if not isGPU:\n",
    "    print(\"There is no GPU setup for this pytorch version. Please reinstall different pytorch version!\")\n",
    "else:\n",
    "    print(\"Number of avalaible GPUs: \", torch.cuda.device_count())\n",
    "    print(\"GPU's name: \", torch.cuda.get_device_name(0))\n",
    "    print(\"----- Hooray! You have successfully installed and configured pytorch for jupyter notebook! -----\")"
   ]
  },
  {
   "cell_type": "code",
   "execution_count": null,
   "metadata": {},
   "outputs": [],
   "source": []
  }
 ],
 "metadata": {
  "kernelspec": {
   "display_name": "env_dir",
   "language": "python",
   "name": "env_dir"
  },
  "language_info": {
   "codemirror_mode": {
    "name": "ipython",
    "version": 3
   },
   "file_extension": ".py",
   "mimetype": "text/x-python",
   "name": "python",
   "nbconvert_exporter": "python",
   "pygments_lexer": "ipython3",
   "version": "3.6.5"
  }
 },
 "nbformat": 4,
 "nbformat_minor": 2
}
