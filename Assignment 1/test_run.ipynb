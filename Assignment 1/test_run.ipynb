{
 "cells": [
  {
   "cell_type": "code",
   "execution_count": 1,
   "metadata": {},
   "outputs": [
    {
     "name": "stdout",
     "output_type": "stream",
     "text": [
      "Python Version:  3.6.5 (default, Apr  9 2018, 09:51:01) \n",
      "[GCC 7.3.0]\n",
      "PyTorch Version:  1.0.0\n",
      "Torchvision Version:  0.2.1\n"
     ]
    }
   ],
   "source": [
    "import torch\n",
    "import torchvision\n",
    "import sys\n",
    "\n",
    "print(\"Python Version: \", sys.version)\n",
    "print(\"PyTorch Version: \",torch.__version__)\n",
    "print(\"Torchvision Version: \",torchvision.__version__)"
   ]
  },
  {
   "cell_type": "code",
   "execution_count": 2,
   "metadata": {},
   "outputs": [
    {
     "name": "stdout",
     "output_type": "stream",
     "text": [
      "Number of avalaible GPUs:  1\n",
      "GPU's name:  GeForce GTX 970\n",
      "----- Hooray! You have successfully installed and configured pytorch for jupyter notebook! -----\n"
     ]
    }
   ],
   "source": [
    "isGPU = torch.cuda.is_available()\n",
    "if not isGPU:\n",
    "    print(\"There is no GPU setup for this pytorch version. Please reinstall different pytorch version!\")\n",
    "else:\n",
    "    print(\"Number of avalaible GPUs: \", torch.cuda.device_count())\n",
    "    print(\"GPU's name: \", torch.cuda.get_device_name(0))\n",
    "    print(\"----- Hooray! You have successfully installed and configured pytorch for jupyter notebook! -----\")"
   ]
  },
  {
   "cell_type": "code",
   "execution_count": 3,
   "metadata": {},
   "outputs": [
    {
     "data": {
      "text/plain": [
       "'/home/u0579755'"
      ]
     },
     "execution_count": 3,
     "metadata": {},
     "output_type": "execute_result"
    }
   ],
   "source": [
    "%pwd"
   ]
  },
  {
   "cell_type": "code",
   "execution_count": 4,
   "metadata": {},
   "outputs": [
    {
     "name": "stdout",
     "output_type": "stream",
     "text": [
      "\u001b[0m\u001b[38;5;27menv_dir\u001b[0m/  test_run.ipynb\r\n"
     ]
    }
   ],
   "source": [
    "%ls"
   ]
  },
  {
   "cell_type": "code",
   "execution_count": 5,
   "metadata": {},
   "outputs": [
    {
     "name": "stdout",
     "output_type": "stream",
     "text": [
      "total 36\r\n",
      "drwxr-xr-x.  7 u0579755 Domain Users 4096 Jan 31 14:59 \u001b[0m\u001b[38;5;27m.\u001b[0m/\r\n",
      "drwxr-xr-x.  7 root     root            0 Jan 31 14:31 \u001b[38;5;27m..\u001b[0m/\r\n",
      "drwx------.  3 u0579755 Domain Users 4096 Jan 31 14:25 \u001b[38;5;27m.cache\u001b[0m/\r\n",
      "drwxr-xr-x.  7 u0579755 Domain Users 4096 Jan 31 14:27 \u001b[38;5;27menv_dir\u001b[0m/\r\n",
      "drwxr-xr-x.  2 u0579755 Domain Users 4096 Jan 31 14:37 \u001b[38;5;27m.ipynb_checkpoints\u001b[0m/\r\n",
      "drwxr-xr-x.  5 u0579755 Domain Users 4096 Jan 31 14:32 \u001b[38;5;27m.ipython\u001b[0m/\r\n",
      "drwxr-xr-x.  3 u0579755 Domain Users 4096 Jan 31 14:24 \u001b[38;5;27m.local\u001b[0m/\r\n",
      "drwxrwxrwx. 42 root     root         8192 Jan 31 14:09 \u001b[48;5;10;38;5;21m.snapshot\u001b[0m/\r\n",
      "-rw-r--r--.  1 u0579755 Domain Users 2619 Jan 31 14:59 test_run.ipynb\r\n"
     ]
    }
   ],
   "source": [
    "%ls -la"
   ]
  },
  {
   "cell_type": "code",
   "execution_count": 6,
   "metadata": {},
   "outputs": [
    {
     "name": "stdout",
     "output_type": "stream",
     "text": [
      "/home/u0579755/env_dir\n"
     ]
    }
   ],
   "source": [
    "%cd env_dir/"
   ]
  },
  {
   "cell_type": "code",
   "execution_count": 7,
   "metadata": {},
   "outputs": [
    {
     "name": "stdout",
     "output_type": "stream",
     "text": [
      "\u001b[0m\u001b[38;5;27mbin\u001b[0m/  \u001b[38;5;27metc\u001b[0m/  \u001b[38;5;27minclude\u001b[0m/  \u001b[38;5;27mlib\u001b[0m/  \u001b[38;5;27mshare\u001b[0m/\r\n"
     ]
    }
   ],
   "source": [
    "%ls"
   ]
  },
  {
   "cell_type": "code",
   "execution_count": 8,
   "metadata": {},
   "outputs": [
    {
     "name": "stdout",
     "output_type": "stream",
     "text": [
      "/home/u0579755\n"
     ]
    }
   ],
   "source": [
    "%cd .."
   ]
  },
  {
   "cell_type": "code",
   "execution_count": 9,
   "metadata": {},
   "outputs": [
    {
     "name": "stdout",
     "output_type": "stream",
     "text": [
      "\u001b[0m\u001b[38;5;27menv_dir\u001b[0m/  test_run.ipynb\r\n"
     ]
    }
   ],
   "source": [
    "%ls"
   ]
  },
  {
   "cell_type": "code",
   "execution_count": null,
   "metadata": {},
   "outputs": [],
   "source": []
  }
 ],
 "metadata": {
  "kernelspec": {
   "display_name": "env_dir",
   "language": "python",
   "name": "env_dir"
  },
  "language_info": {
   "codemirror_mode": {
    "name": "ipython",
    "version": 3
   },
   "file_extension": ".py",
   "mimetype": "text/x-python",
   "name": "python",
   "nbconvert_exporter": "python",
   "pygments_lexer": "ipython3",
   "version": "3.6.5"
  }
 },
 "nbformat": 4,
 "nbformat_minor": 2
}
